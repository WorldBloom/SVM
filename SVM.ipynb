{
 "cells": [
  {
   "cell_type": "code",
   "execution_count": 2,
   "metadata": {},
   "outputs": [
    {
     "data": {
      "text/html": [
       "<pre style=\"white-space:pre;overflow-x:auto;line-height:normal;font-family:Menlo,'DejaVu Sans Mono',consolas,'Courier New',monospace\">Manim Community <span style=\"color: #008000; text-decoration-color: #008000\">v0.17.2</span>\n",
       "\n",
       "</pre>\n"
      ],
      "text/plain": [
       "Manim Community \u001b[32mv0.\u001b[0m\u001b[32m17.2\u001b[0m\n",
       "\n"
      ]
     },
     "metadata": {},
     "output_type": "display_data"
    }
   ],
   "source": [
    "from manim import *\n",
    "config.media_width = \"60%\""
   ]
  },
  {
   "cell_type": "code",
   "execution_count": 4,
   "metadata": {},
   "outputs": [
    {
     "data": {
      "text/html": [
       "<pre style=\"white-space:pre;overflow-x:auto;line-height:normal;font-family:Menlo,'DejaVu Sans Mono',consolas,'Courier New',monospace\"><span style=\"color: #7fbfbf; text-decoration-color: #7fbfbf\">[03/25/23 17:16:14] </span><span style=\"color: #800000; text-decoration-color: #800000\">WARNING </span> Unsupported element type: <span style=\"font-weight: bold\">&lt;</span><span style=\"color: #ff00ff; text-decoration-color: #ff00ff; font-weight: bold\">class</span><span style=\"color: #000000; text-decoration-color: #000000\"> </span><span style=\"color: #008000; text-decoration-color: #008000\">'svgelements.svgelements.Title'</span><span style=\"font-weight: bold\">&gt;</span>   <a href=\"file://c:\\Users\\淳色\\AppData\\Local\\Programs\\Python\\Python310\\lib\\site-packages\\manim\\mobject\\svg\\svg_mobject.py\" target=\"_blank\"><span style=\"color: #7f7f7f; text-decoration-color: #7f7f7f\">svg_mobject.py</span></a><span style=\"color: #7f7f7f; text-decoration-color: #7f7f7f\">:</span><a href=\"file://c:\\Users\\淳色\\AppData\\Local\\Programs\\Python\\Python310\\lib\\site-packages\\manim\\mobject\\svg\\svg_mobject.py#276\" target=\"_blank\"><span style=\"color: #7f7f7f; text-decoration-color: #7f7f7f\">276</span></a>\n",
       "</pre>\n"
      ],
      "text/plain": [
       "\u001b[2;36m[03/25/23 17:16:14]\u001b[0m\u001b[2;36m \u001b[0m\u001b[31mWARNING \u001b[0m Unsupported element type: \u001b[1m<\u001b[0m\u001b[1;95mclass\u001b[0m\u001b[39m \u001b[0m\u001b[32m'svgelements.svgelements.Title'\u001b[0m\u001b[1m>\u001b[0m   \u001b]8;id=600688;file://c:\\Users\\淳色\\AppData\\Local\\Programs\\Python\\Python310\\lib\\site-packages\\manim\\mobject\\svg\\svg_mobject.py\u001b\\\u001b[2msvg_mobject.py\u001b[0m\u001b]8;;\u001b\\\u001b[2m:\u001b[0m\u001b]8;id=261333;file://c:\\Users\\淳色\\AppData\\Local\\Programs\\Python\\Python310\\lib\\site-packages\\manim\\mobject\\svg\\svg_mobject.py#276\u001b\\\u001b[2m276\u001b[0m\u001b]8;;\u001b\\\n"
      ]
     },
     "metadata": {},
     "output_type": "display_data"
    },
    {
     "data": {
      "text/html": [
       "<pre style=\"white-space:pre;overflow-x:auto;line-height:normal;font-family:Menlo,'DejaVu Sans Mono',consolas,'Courier New',monospace\"><span style=\"color: #7fbfbf; text-decoration-color: #7fbfbf\">                    </span><span style=\"color: #800000; text-decoration-color: #800000\">WARNING </span> Unsupported element type: <span style=\"font-weight: bold\">&lt;</span><span style=\"color: #ff00ff; text-decoration-color: #ff00ff; font-weight: bold\">class</span><span style=\"color: #000000; text-decoration-color: #000000\"> </span><span style=\"color: #008000; text-decoration-color: #008000\">'svgelements.svgelements.Title'</span><span style=\"font-weight: bold\">&gt;</span>   <a href=\"file://c:\\Users\\淳色\\AppData\\Local\\Programs\\Python\\Python310\\lib\\site-packages\\manim\\mobject\\svg\\svg_mobject.py\" target=\"_blank\"><span style=\"color: #7f7f7f; text-decoration-color: #7f7f7f\">svg_mobject.py</span></a><span style=\"color: #7f7f7f; text-decoration-color: #7f7f7f\">:</span><a href=\"file://c:\\Users\\淳色\\AppData\\Local\\Programs\\Python\\Python310\\lib\\site-packages\\manim\\mobject\\svg\\svg_mobject.py#276\" target=\"_blank\"><span style=\"color: #7f7f7f; text-decoration-color: #7f7f7f\">276</span></a>\n",
       "</pre>\n"
      ],
      "text/plain": [
       "\u001b[2;36m                   \u001b[0m\u001b[2;36m \u001b[0m\u001b[31mWARNING \u001b[0m Unsupported element type: \u001b[1m<\u001b[0m\u001b[1;95mclass\u001b[0m\u001b[39m \u001b[0m\u001b[32m'svgelements.svgelements.Title'\u001b[0m\u001b[1m>\u001b[0m   \u001b]8;id=786954;file://c:\\Users\\淳色\\AppData\\Local\\Programs\\Python\\Python310\\lib\\site-packages\\manim\\mobject\\svg\\svg_mobject.py\u001b\\\u001b[2msvg_mobject.py\u001b[0m\u001b]8;;\u001b\\\u001b[2m:\u001b[0m\u001b]8;id=220533;file://c:\\Users\\淳色\\AppData\\Local\\Programs\\Python\\Python310\\lib\\site-packages\\manim\\mobject\\svg\\svg_mobject.py#276\u001b\\\u001b[2m276\u001b[0m\u001b]8;;\u001b\\\n"
      ]
     },
     "metadata": {},
     "output_type": "display_data"
    },
    {
     "name": "stderr",
     "output_type": "stream",
     "text": [
      "                                                                                        \r"
     ]
    },
    {
     "data": {
      "text/html": [
       "<video src=\"media\\jupyter\\flower_c2@2023-03-25@17-16-48.mp4\" controls autoplay loop style=\"max-width: 60%;\"  >\n",
       "      Your browser does not support the <code>video</code> element.\n",
       "    </video>"
      ],
      "text/plain": [
       "<IPython.core.display.Video object>"
      ]
     },
     "metadata": {},
     "output_type": "display_data"
    }
   ],
   "source": [
    "%%manim -v WARNING -qh flower_c2\n",
    "class flower_c2(Scene):\n",
    "    def construct(self):\n",
    "        #self.camera.background_color = \"#ece6e2\"\n",
    "        text = Text(\"World Bloom\",font_size=48)\n",
    "        flower = SVGMobject(\"flower_c.svg\").scale(2)    \n",
    "        self.play(Create(flower),Write(text),run_time=4,lag_ratio=0.01)\n",
    "        self.wait(2)"
   ]
  },
  {
   "cell_type": "code",
   "execution_count": 5,
   "metadata": {},
   "outputs": [
    {
     "name": "stderr",
     "output_type": "stream",
     "text": [
      "                                                                                                                                                \r"
     ]
    },
    {
     "data": {
      "text/html": [
       "<video src=\"media\\jupyter\\beginword@2023-03-25@17-34-05.mp4\" controls autoplay loop style=\"max-width: 60%;\"  >\n",
       "      Your browser does not support the <code>video</code> element.\n",
       "    </video>"
      ],
      "text/plain": [
       "<IPython.core.display.Video object>"
      ]
     },
     "metadata": {},
     "output_type": "display_data"
    }
   ],
   "source": [
    "%%manim -v WARNING -qh beginword\n",
    "class beginword(Scene):\n",
    "    def construct(self):\n",
    "\n",
    "        pi = ImageMobject(\"pi.png\")\n",
    "        pi_says = Text(\"来玩一下支持向量机吧\",color=BLACK,font_size=22).move_to(1.7*RIGHT+2.2*UP)\n",
    "        words = ImageMobject(\"Bubbles_speech.png\").shift(1.5*UR)\n",
    "        \n",
    "        \n",
    "        # 开场白\n",
    "        begin1 = Text(\"又到了新年和圣诞，是时候把大家聚到一起做一些有意义的事情了...So\",font_size=30).to_edge(DOWN)\n",
    "        begin2 = Text(\"不妨来做一个有意思的谜题吧！\",font_size=30).to_edge(DOWN)\n",
    "\n",
    "        self.add(begin1,pi) \n",
    "        self.wait(3)\n",
    "        self.play(Transform(begin1,begin2),runtime=3)\n",
    "        self.wait()\n",
    "        self.play(FadeIn(words))\n",
    "        self.play(Write(pi_says))\n",
    "        self.wait()"
   ]
  },
  {
   "attachments": {},
   "cell_type": "markdown",
   "metadata": {},
   "source": [
    "# 支持向量机"
   ]
  },
  {
   "cell_type": "code",
   "execution_count": 21,
   "metadata": {},
   "outputs": [
    {
     "name": "stderr",
     "output_type": "stream",
     "text": [
      "                                                                                                                                  \r"
     ]
    },
    {
     "data": {
      "text/html": [
       "<video src=\"media\\jupyter\\SVMbegin@2023-03-24@15-56-50.mp4\" controls autoplay loop style=\"max-width: 60%;\"  >\n",
       "      Your browser does not support the <code>video</code> element.\n",
       "    </video>"
      ],
      "text/plain": [
       "<IPython.core.display.Video object>"
      ]
     },
     "metadata": {},
     "output_type": "display_data"
    }
   ],
   "source": [
    "%%manim -v WARNING -qh SVMbegin\n",
    "class SVMbegin(Scene):\n",
    "    def construct(self):\n",
    "        numberplane = NumberPlane()#添加坐标轴，用来辅助定位\n",
    "        #坐标轴\n",
    "        axes = Axes(\n",
    "            x_range = [-0.6,6,1.5],\n",
    "            y_range = [-0.6,6,1.5],\n",
    "            x_length = 7,\n",
    "            y_length = 7,\n",
    "            \n",
    "        )\n",
    "        #数据A\n",
    "        dot1 = Dot(axes.coords_to_point(0.3,1.5))#创造关于坐标轴的点的用法\n",
    "        dot2 = Dot(axes.coords_to_point(0.3,2))\n",
    "        dot3 = Dot(axes.coords_to_point(1,1.5))\n",
    "        dot4 = Dot(axes.coords_to_point(1.2,1))\n",
    "        dot5 = Dot(axes.coords_to_point(1.5,2))\n",
    "        dot6 = Dot(axes.coords_to_point(2,1))\n",
    "        dot7 = Dot(axes.coords_to_point(2.2,0.4))\n",
    "        dot_a = VGroup(dot1,dot2,dot3,dot4,dot5,dot6,dot7)\n",
    "\n",
    "        #数据B\n",
    "        dot_1 = Dot(axes.coords_to_point(2.21,4))\n",
    "        dot_2 = Dot(axes.coords_to_point(2.22,4.7))\n",
    "        dot_3 = Dot(axes.coords_to_point(3.3,3.7))\n",
    "        dot_4 = Dot(axes.coords_to_point(3.5,4.1))\n",
    "        dot_5 = Dot(axes.coords_to_point(3.7,4.6))\n",
    "        dot_6 = Dot(axes.coords_to_point(4.3,3.7))\n",
    "        dot_7 = Dot(axes.coords_to_point(4.7,4.2))\n",
    "        dot_b = VGroup(dot_1,dot_2,dot_3,dot_4,dot_5,dot_6,dot_7)\n",
    "\n",
    "        #前置引入\n",
    "        #self.add(numberplane)\n",
    "        self.play(Create(axes),run_time=3,lag_ratio=0.05)\n",
    "        self.wait()\n",
    "\n",
    "        self.add(dot_a,dot_b)\n",
    "        self.play(FadeIn(dot_a,dot_b))\n",
    "        self.wait()\n",
    "\n",
    "        #画一条区分线\n",
    "        line1 = Line(np.array([-2,1.5,0]),np.array([1,-2,0]),stroke_width=5,color=RED)\n",
    "        self.play(Create(line1),run_time=3,lag_ratio=0.05)\n",
    "        self.wait()\n",
    "\n",
    "        self.play(dot_a.animate.set_fill(color=YELLOW),dot_b.animate.set_fill(color=BLUE))\n",
    "        self.play(Indicate(dot_a),Indicate(dot_b,color=BLUE))\n",
    "        self.wait()\n",
    "\n",
    "        #添加多条线\n",
    "        line2 = Line(np.array([-2.5,0,0]),np.array([2.5,0,0]),stroke_width=5,color=PINK)\n",
    "        line3 = Line(np.array([-1,2.2,0]),np.array([-0.3,-2.5,0]),stroke_width=5,color=GREEN)\n",
    "\n",
    "        self.play(Create(line2),run_time=1,lag_ratio=0.05)\n",
    "        self.play(Create(line3),run_time=1,lag_ratio=0.05)\n",
    "        self.wait()\n",
    "        self.play(line1.animate.shift(UP),rate_func=there_and_back)\n",
    "        self.play(line1.animate.shift(DOWN),rate_func=there_and_back)\n",
    "        self.wait()\n",
    "\n",
    "\n",
    "        self.play(FadeOut(line2,line3))\n",
    "        self.wait()\n",
    "        self.play(Indicate(line1),color=RED)\n",
    "        self.wait()\n",
    "        #介绍TooClose环节\n",
    "        self.play(FadeOut(line1))\n",
    "        self.play(FadeIn(line3))\n",
    "        self.wait(2)\n",
    "\n",
    "        #加入新的数据点会判断错误\n",
    "        dot_new = Dot(axes.coords_to_point(2.8,0.5),color=WHITE,radius=0.12)#让错误点稍微大点\n",
    "        self.add(dot_new)\n",
    "        self.play(FadeIn(dot_new))\n",
    "        self.play(Indicate(dot_new,color=WHITE))\n",
    "        self.wait()\n",
    "        self.play(dot_new.animate.set_fill(color=BLUE))\n",
    "        self.wait(2)\n",
    "        x = MathTex(\"X\",color=RED).move_to(dot_new)\n",
    "        self.add(x)\n",
    "        self.play(FadeIn(x))\n",
    "        self.wait()\n",
    "        self.play(FadeOut(x))\n",
    "        #self.remove(x)\n",
    "        self.play(FadeOut(dot_new))\n",
    "      \n",
    "\n",
    "\n",
    "        self.play(FadeOut(line3))\n",
    "        self.play(FadeIn(line2))\n",
    "        self.play(FadeOut(line2))\n",
    "        self.play(FadeIn(line1))\n",
    "        self.play(FadeOut(line1))\n",
    "        self.play(Flash(dot5),Flash(dot_1))#地雷特效\n",
    "\n",
    "        \n",
    "\n",
    "        vec1 = Arrow(axes.coords_to_point(1.4,1.9),axes.coords_to_point(2.2,2.7),color=RED)#将点的坐标减去0.1看起来更加贴合\n",
    "        vec2 = Arrow(axes.coords_to_point(2.3,4.1),axes.coords_to_point(1.4,3.2),color=RED).scale(0.9)\n",
    "        MarginLine1 = DashedLine(np.array([-2,1.5,0]),np.array([1,-2,0]),stroke_width=5,color=RED).move_to(dot5)\n",
    "        MarginLine2 = DashedLine(np.array([-2,1.5,0]),np.array([1,-2,0]),stroke_width=5,color=RED).move_to(dot_1).shift(1*RIGHT+1*DOWN)\n",
    "\n",
    "        p1 = [-2.7,0.9,0]\n",
    "        p2 = [-1,2,0]\n",
    "        Margin = BraceBetweenPoints(p1,p2,direction=np.array([-3,3.5,0]))\n",
    "        MarginText = Margin.get_text(\"Margin\").shift(RIGHT)\n",
    "\n",
    "        different = Text(\"间隔距离体现了数据差异大小\\n间隔越大区分起来越容易\",font_size=24).to_edge(LEFT,buff=0.1).shift(1.8*UP)\n",
    "\n",
    "        self.play(FadeIn(line1),FadeIn(MarginLine1),FadeIn(MarginLine2))\n",
    "        self.play(FadeIn(vec1),FadeIn(vec2))\n",
    "        self.play(FadeIn(Margin),FadeIn(MarginText))\n",
    "        self.wait()\n",
    "        self.play(Write(different))\n",
    "        self.wait(2)\n",
    "\n",
    "        #加入新的数据点\n",
    "        dot_new.set_fill(color=YELLOW)\n",
    "        true = MathTex(\"\\surd \",color=GREEN).next_to(dot_new,DOWN,buff=0.01).scale(1.5)\n",
    "        arrow = Arrow(axes.coords_to_point(2.8,0.5),axes.coords_to_point(4.5,0.7),color=WHITE).scale(0.8)\n",
    "        arrowText = Text(\"新数据点\",font_size=24).next_to(arrow,RIGHT)\n",
    "        self.play(FadeIn(dot_new))\n",
    "        self.wait()\n",
    "        self.play(Create(arrow),Write(arrowText))\n",
    "        self.wait()\n",
    "        self.play(Create(true))\n",
    "        self.wait()\n",
    "        self.play(Flash(dot5),Flash(dot_1))#地雷特效\n",
    "        dotText = Text(\"支持向量\\nSupport Vector\",font_size=20).next_to(dot5,RIGHT)\n",
    "        self.play(Write(dotText))\n",
    "        self.wait()\n",
    "        \n",
    "        part1 = VGroup(line1,MarginLine1,MarginLine2,Margin,MarginText,different,dot_new,true,arrow,arrowText,dotText, vec1, vec2)#除去多余元素\n",
    "        self.play(FadeOut(part1))\n",
    "\n",
    "        #Part2\n",
    "\n",
    "        #dot_wrong\n",
    "        dot_wrong = Dot(point=np.array([-1,0.6,0]),color=YELLOW,radius=0.12)\n",
    "        self.play(FadeIn(dot_wrong))\n",
    "        self.wait(2)\n",
    "\n",
    "        #LineAndMargin\n",
    "        line4 = Line(np.array([-2,2,0]),np.array([1,-0.5,0]),stroke_width=5,color=RED).scale(1.5)\n",
    "        MarginLine3 = DashedLine(np.array([-2,2,0]),np.array([1,-0.5,0]),stroke_width=5,color=RED).move_to(dot_wrong).scale(1.2)\n",
    "        MarginLine4 = DashedLine(np.array([-2,2,0]),np.array([1,-0.5,0]),stroke_width=5,color=RED).move_to(dot_1).scale(1.2)\n",
    "        p3 = [-2.8,2,0]\n",
    "        p4 = [-2.2,2.8,0]\n",
    "        Margin2 = BraceBetweenPoints(p3,p4,direction=np.array([-2,1.8,0]))\n",
    "        MarginText2 = Margin2.get_text(\"Margin\")\n",
    "        self.play(FadeIn(MarginLine3),FadeIn(MarginLine4))\n",
    "        self.play(Create(line4))\n",
    "        self.play(FadeIn(Margin2),FadeIn(MarginText2))\n",
    "        self.wait(2)\n",
    "        \n",
    "        part2 = VGroup(line4,MarginLine3,MarginLine4,Margin2,MarginText2)\n",
    "        self.play(FadeOut(part2))\n",
    "        self.wait(2)\n",
    "\n",
    "        #利润\n",
    "        profit = Text(\"Max\\n利润\",font_size=50,color=MAROON_A,).to_edge(LEFT).shift(2*RIGHT)\n",
    "        get = Text(\"收入\",font_size=28,color=WHITE).next_to(Margin,UP).shift(0.5*DOWN)\n",
    "        #成本\n",
    "        vec3 = DoubleArrow(axes.coords_to_point(1.9,3.3),axes.coords_to_point(0.8,2.5),color=YELLOW)\n",
    "        p5 = [-0.8,0.5,0]\n",
    "        p6 = [-2,-0,0]\n",
    "        Margin3 = BraceBetweenPoints(dot_wrong,p6,direction=np.array([-2,2.3,0]))#没有必要重新定义两个点，用原来的dot_wrong也可以\n",
    "        loss =  Text(\"损失(成本)\",font_size=25,color=WHITE).next_to(Margin3,UP).shift(0.3*DOWN)\n",
    "        \n",
    "        self.play(FadeIn(MarginLine1,MarginLine2))#让之前的间隔显现出来\n",
    "        self.play(FadeIn(profit))\n",
    "\n",
    "        self.play(FadeIn(Margin))#收入动画\n",
    "        self.play(Write(get))\n",
    "        self.wait()\n",
    "        self.play(FadeIn(line1))#成本动画\n",
    "        self.play(FadeIn(vec3))\n",
    "        self.play(FadeIn(Margin3))\n",
    "        self.wait()\n",
    "        self.play(Write(loss))\n",
    "        self.wait()\n",
    "\n",
    "        Texts = VGroup(Margin,MarginText,Margin3,profit,get,loss,vec3)\n",
    "        self.play(FadeOut(Texts))\n",
    "\n",
    "\n",
    "        #组织场景\n",
    "        HardDashedLine = DashedLine(np.array([-2,1.5,0]),np.array([1,-2,0]),stroke_width=4,color=TEAL_E).shift(0.3*UP)        \n",
    "        HardLine = Line(np.array([-1.7,1.2,0]),np.array([1.3,-2.3,0]),stroke_width=5,color=TEAL_E).shift(0.85*UP)\n",
    "\n",
    "        #软间隔\n",
    "        p_1 = [0.2,-2.5,0]\n",
    "        p_2 = [2,-1.4,0]\n",
    "        SoftMargin = BraceBetweenPoints(p_1,p_2,direction=np.array([1,-1.5,0]),color=RED)\n",
    "        SoftText = Text(\"软间隔(Soft Margin)\",font_size=27,color=RED).next_to(SoftMargin,RIGHT)\n",
    "        #硬间隔\n",
    "        p_3 = [-1.9,1.6,0]\n",
    "        p_4 = [-0.6,1.7,0]  \n",
    "        HardMargin = BraceBetweenPoints(p_3,p_4,direction=np.array([-1,1.2,0]),color=TEAL_E)\n",
    "        HardText = Text(\"硬间隔(Hard Margin)\",font_size=27,color=TEAL_E).next_to(HardMargin,UP)\n",
    "\n",
    "        self.play(FadeIn(HardDashedLine),FadeIn(HardLine))\n",
    "        self.wait()\n",
    "        self.play(FadeIn(SoftMargin),Write(SoftText))\n",
    "        self.wait()\n",
    "        self.play(FadeIn(HardMargin),Write(HardText))\n",
    "        self.wait(2)\n",
    "\n"
   ]
  },
  {
   "attachments": {},
   "cell_type": "markdown",
   "metadata": {},
   "source": [
    "实际上鸢尾花的判断指标是不可能单单只有两个的。所以这个问题实际上可以拓展到更加高维的空间中。"
   ]
  },
  {
   "cell_type": "code",
   "execution_count": 61,
   "metadata": {},
   "outputs": [
    {
     "name": "stderr",
     "output_type": "stream",
     "text": [
      "                                                                                                \r"
     ]
    },
    {
     "data": {
      "text/html": [
       "<video src=\"media\\jupyter\\prove@2023-03-17@16-35-26.mp4\" controls autoplay loop style=\"max-width: 60%;\"  >\n",
       "      Your browser does not support the <code>video</code> element.\n",
       "    </video>"
      ],
      "text/plain": [
       "<IPython.core.display.Video object>"
      ]
     },
     "metadata": {},
     "output_type": "display_data"
    }
   ],
   "source": [
    "%%manim -v WARNING -qh prove\n",
    "class prove(ThreeDScene):\n",
    "    def construct(self):\n",
    "        axes = ThreeDAxes(\n",
    "            x_range = [-0.6,6,1.5],\n",
    "            y_range = [-0.6,6,1.5],\n",
    "            x_length = 7,\n",
    "            y_length = 7,\n",
    "            \n",
    "        )    \n",
    "        #self.set_camera_orientation(phi=75 * DEGREES, theta=45 * DEGREES)#，phi指的是仰角，方向指向屏幕外OUT。theta是指水平方向的角度，方向是逆时针方向。\n",
    "\n",
    "        #ShrotDots\n",
    "        dot1 = Dot3D(axes.coords_to_point(0.3,1.5,1))\n",
    "        dot2 = Dot3D(axes.coords_to_point(0.3,2,1))\n",
    "        dot3 = Dot3D(axes.coords_to_point(1,1.5,1))\n",
    "        dot4 = Dot3D(axes.coords_to_point(1.2,1,1))\n",
    "        dot5 = Dot3D(axes.coords_to_point(1.5,2,1))\n",
    "        dot6 = Dot3D(axes.coords_to_point(2,1,1))\n",
    "        dot7 = Dot3D(axes.coords_to_point(2.2,0.4,1))\n",
    "        dot_a = VGroup(dot1,dot2,dot3,dot4,dot5,dot6,dot7).set_fill(color=YELLOW)\n",
    "        \n",
    "        #TallDots\n",
    "        dot_1 = Dot3D(axes.coords_to_point(2.21,4.3,3))\n",
    "        dot_2 = Dot3D(axes.coords_to_point(2.22,4.7,3))\n",
    "        dot_3 = Dot3D(axes.coords_to_point(3.3,3.7,3))\n",
    "        dot_4 = Dot3D(axes.coords_to_point(3.5,4.1,3))\n",
    "        dot_5 = Dot3D(axes.coords_to_point(3.7,4.6,3))\n",
    "        dot_6 = Dot3D(axes.coords_to_point(4.3,3.7,3))\n",
    "        dot_7 = Dot3D(axes.coords_to_point(4.7,4.2,3))\n",
    "        dot_b = VGroup(dot_1,dot_2,dot_3,dot_4,dot_5,dot_6,dot_7).set_fill(color=BLUE)\n",
    "\n",
    "        \n",
    "        platform = Prism(\n",
    "            dimensions=[5,4,.05],\n",
    "            \n",
    "        ).next_to(dot_a,UP)\n",
    "        platform.rotate(45 *DEGREES)\n",
    "        platform.shift(1.5*DOWN+2*LEFT)\n",
    "\n",
    "        self.add(dot_a,dot_b,axes)\n",
    "        #self.play(Create(axes),run_time=3,lag_ratio=0.05)\n",
    "        \n",
    "        self.wait()\n",
    "        self.move_camera(phi=75 * DEGREES, theta=0 * DEGREES,run_time=3)\n",
    "\n",
    "        self.play(FadeIn(platform))\n",
    "\n",
    "        self.wait(2)\n",
    "\n"
   ]
  }
 ],
 "metadata": {
  "kernelspec": {
   "display_name": "Python 3",
   "language": "python",
   "name": "python3"
  },
  "language_info": {
   "codemirror_mode": {
    "name": "ipython",
    "version": 3
   },
   "file_extension": ".py",
   "mimetype": "text/x-python",
   "name": "python",
   "nbconvert_exporter": "python",
   "pygments_lexer": "ipython3",
   "version": "3.10.2"
  },
  "orig_nbformat": 4,
  "vscode": {
   "interpreter": {
    "hash": "b1e552426e868d61e70d793ad72fed9818c6e53ecfa9aa5533f0e611e179c6a7"
   }
  }
 },
 "nbformat": 4,
 "nbformat_minor": 2
}
